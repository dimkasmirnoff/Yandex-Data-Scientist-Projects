{
 "cells": [
  {
   "cell_type": "markdown",
   "metadata": {},
   "source": [
    "#  Построение модели для определения региона, где добыча нефти принесёт наибольшую прибыль\n",
    "\n",
    "Допустим, вы работаете в добывающей компании «ГлавРосГосНефть». Нужно решить, где бурить новую скважину.\n",
    "Шаги для выбора локации обычно такие:\n",
    "\n",
    "    В избранном регионе собирают характеристики для скважин: качество нефти и объём её запасов;\n",
    "    Строят модель для предсказания объёма запасов в новых скважинах;\n",
    "    Выбирают скважины с самыми высокими оценками значений;\n",
    "    Определяют регион с максимальной суммарной прибылью отобранных скважин.\n",
    "\n",
    "Вам предоставлены пробы нефти в трёх регионах. Характеристики для каждой скважины в регионе уже известны. Постройте модель для определения региона, где добыча принесёт наибольшую прибыль. Проанализируйте возможную прибыль и риски техникой Bootstrap."
   ]
  },
  {
   "cell_type": "markdown",
   "metadata": {},
   "source": [
    "## Задачи проекта\n",
    "### [Шаг 1. Загрузите и подготовьте данные. Поясните порядок действий.](#step1)\n",
    "\n",
    "### [Шаг 2. Обучите и проверьте модель для каждого региона](#step2)\n",
    "#### Шаг 2.1 Разбейте данные на обучающую и валидационную выборки в соотношении 75:25\n",
    "#### Шаг 2.2 Обучите модель и сделайте предсказания на валидационной выборке\n",
    "#### Шаг 2.3 Сохраните предсказания и правильные ответы на валидационной выборке\n",
    "#### Шаг 2.4 Напечатайте на экране средний запас предсказанного сырья и RMSE модели\n",
    "#### Шаг 2.5 Проанализируйте результаты\n",
    "\n",
    "### [Шаг 3. Подготовьтесь к расчёту прибыли:](#step3)\n",
    "#### Шаг 3.1 Все ключевые значения для расчётов сохраните в отдельных переменных\n",
    "#### Шаг 3.2 Рассчитайте достаточный объём сырья для безубыточной разработки новой скважины. Сравните полученный объём сырья со средним запасом в каждом регионе\n",
    "#### Шаг 3.3 Напишите выводы по этапу подготовки расчёта прибыли\n",
    "\n",
    "### [Шаг 4. Напишите функцию для расчёта прибыли по выбранным скважинам и предсказаниям модели](#step4)\n",
    "#### Шаг 4.1 Выберите скважины с максимальными значениями предсказаний\n",
    "#### Шаг 4.2 Просуммируйте целевое значение объёма сырья, соответствующее этим предсказаниям\n",
    "#### Шаг 4.3 Рассчитайте прибыль для полученного объёма сырья\n",
    "\n",
    "\n",
    "### [Шаг 5. Посчитайте риски и прибыль для каждого региона](#step5)\n",
    "#### Шаг 5.1 Примените технику Bootstrap с 1000 выборок, чтобы найти распределение прибыли\n",
    "#### Шаг 5.2 Найдите среднюю прибыль, 95%-й доверительный интервал и риск убытков\n",
    "#### Шаг 5.3 Напишите выводы: предложите регион для разработки скважин и обоснуйте выбор\n"
   ]
  },
  {
   "cell_type": "markdown",
   "metadata": {},
   "source": [
    "# Этапы выполнения проекта"
   ]
  },
  {
   "cell_type": "markdown",
   "metadata": {},
   "source": [
    "## Шаг 1. Откроем файлы с данными и изучим общую информацию. <a id='step1'></a>"
   ]
  },
  {
   "cell_type": "code",
   "execution_count": 1,
   "metadata": {},
   "outputs": [],
   "source": [
    "import pandas as pd\n",
    "import numpy as np\n",
    "import math\n",
    "import matplotlib.pyplot as plt\n",
    "from scipy import stats as st\n",
    "from sklearn.model_selection import train_test_split\n",
    "from sklearn.linear_model import LogisticRegression\n",
    "from sklearn.tree import plot_tree\n",
    "from sklearn.metrics import mean_squared_error\n",
    "import seaborn as sns\n",
    "from sklearn.linear_model import LinearRegression\n",
    "import warnings\n",
    "warnings.simplefilter(action='ignore', category=FutureWarning)"
   ]
  },
  {
   "cell_type": "code",
   "execution_count": 2,
   "metadata": {},
   "outputs": [],
   "source": [
    "df0 = pd.read_csv('C:/Users/Dmitry/Documents/Data/projects/neft/geo_data_0.csv')\n",
    "df1 = pd.read_csv('C:/Users/Dmitry/Documents/Data/projects/neft/geo_data_1.csv')\n",
    "df2 = pd.read_csv('C:/Users/Dmitry/Documents/Data/projects/neft/geo_data_2.csv')\n"
   ]
  },
  {
   "cell_type": "markdown",
   "metadata": {},
   "source": [
    "Напишем функцию для получения информации по датасетам. Посмотрим информацию, количество дубликатов и корреляцию признаков. "
   ]
  },
  {
   "cell_type": "code",
   "execution_count": 3,
   "metadata": {},
   "outputs": [],
   "source": [
    "def getInfo(df):\n",
    "    print(df.info())\n",
    "    print('Количество дубликатов:',df.duplicated().value_counts())\n",
    "    print(df.describe())\n",
    "    plt.figure(figsize=(5, 5))\n",
    "    sns.heatmap(df.corr(), annot = True, fmt='.1g', square=True,cmap= 'coolwarm', linewidths=1, linecolor='black')"
   ]
  },
  {
   "cell_type": "code",
   "execution_count": 4,
   "metadata": {},
   "outputs": [
    {
     "name": "stdout",
     "output_type": "stream",
     "text": [
      "<class 'pandas.core.frame.DataFrame'>\n",
      "RangeIndex: 100000 entries, 0 to 99999\n",
      "Data columns (total 5 columns):\n",
      " #   Column   Non-Null Count   Dtype  \n",
      "---  ------   --------------   -----  \n",
      " 0   id       100000 non-null  object \n",
      " 1   f0       100000 non-null  float64\n",
      " 2   f1       100000 non-null  float64\n",
      " 3   f2       100000 non-null  float64\n",
      " 4   product  100000 non-null  float64\n",
      "dtypes: float64(4), object(1)\n",
      "memory usage: 3.4+ MB\n",
      "None\n",
      "Количество дубликатов: False    100000\n",
      "dtype: int64\n",
      "                  f0             f1             f2        product\n",
      "count  100000.000000  100000.000000  100000.000000  100000.000000\n",
      "mean        0.500419       0.250143       2.502647      92.500000\n",
      "std         0.871832       0.504433       3.248248      44.288691\n",
      "min        -1.408605      -0.848218     -12.088328       0.000000\n",
      "25%        -0.072580      -0.200881       0.287748      56.497507\n",
      "50%         0.502360       0.250252       2.515969      91.849972\n",
      "75%         1.073581       0.700646       4.715088     128.564089\n",
      "max         2.362331       1.343769      16.003790     185.364347\n"
     ]
    },
    {
     "data": {
      "image/png": "[encoded data removed]",
      "text/plain": [
       "<Figure size 360x360 with 2 Axes>"
      ]
     },
     "metadata": {
      "needs_background": "light"
     },
     "output_type": "display_data"
    }
   ],
   "source": [
    "getInfo(df0)"
   ]
  },
  {
   "cell_type": "code",
   "execution_count": 5,
   "metadata": {},
   "outputs": [
    {
     "name": "stdout",
     "output_type": "stream",
     "text": [
      "<class 'pandas.core.frame.DataFrame'>\n",
      "RangeIndex: 100000 entries, 0 to 99999\n",
      "Data columns (total 5 columns):\n",
      " #   Column   Non-Null Count   Dtype  \n",
      "---  ------   --------------   -----  \n",
      " 0   id       100000 non-null  object \n",
      " 1   f0       100000 non-null  float64\n",
      " 2   f1       100000 non-null  float64\n",
      " 3   f2       100000 non-null  float64\n",
      " 4   product  100000 non-null  float64\n",
      "dtypes: float64(4), object(1)\n",
      "memory usage: 3.4+ MB\n",
      "None\n",
      "Количество дубликатов: False    100000\n",
      "dtype: int64\n",
      "                  f0             f1             f2        product\n",
      "count  100000.000000  100000.000000  100000.000000  100000.000000\n",
      "mean        1.141296      -4.796579       2.494541      68.825000\n",
      "std         8.965932       5.119872       1.703572      45.944423\n",
      "min       -31.609576     -26.358598      -0.018144       0.000000\n",
      "25%        -6.298551      -8.267985       1.000021      26.953261\n",
      "50%         1.153055      -4.813172       2.011479      57.085625\n",
      "75%         8.621015      -1.332816       3.999904     107.813044\n",
      "max        29.421755      18.734063       5.019721     137.945408\n"
     ]
    },
    {
     "data": {
      "image/png": "[encoded data removed]",
      "text/plain": [
       "<Figure size 360x360 with 2 Axes>"
      ]
     },
     "metadata": {
      "needs_background": "light"
     },
     "output_type": "display_data"
    }
   ],
   "source": [
    "getInfo(df1)"
   ]
  },
  {
   "cell_type": "code",
   "execution_count": 6,
   "metadata": {},
   "outputs": [
    {
     "name": "stdout",
     "output_type": "stream",
     "text": [
      "<class 'pandas.core.frame.DataFrame'>\n",
      "RangeIndex: 100000 entries, 0 to 99999\n",
      "Data columns (total 5 columns):\n",
      " #   Column   Non-Null Count   Dtype  \n",
      "---  ------   --------------   -----  \n",
      " 0   id       100000 non-null  object \n",
      " 1   f0       100000 non-null  float64\n",
      " 2   f1       100000 non-null  float64\n",
      " 3   f2       100000 non-null  float64\n",
      " 4   product  100000 non-null  float64\n",
      "dtypes: float64(4), object(1)\n",
      "memory usage: 3.4+ MB\n",
      "None\n",
      "Количество дубликатов: False    100000\n",
      "dtype: int64\n",
      "                  f0             f1             f2        product\n",
      "count  100000.000000  100000.000000  100000.000000  100000.000000\n",
      "mean        0.002023      -0.002081       2.495128      95.000000\n",
      "std         1.732045       1.730417       3.473445      44.749921\n",
      "min        -8.760004      -7.084020     -11.970335       0.000000\n",
      "25%        -1.162288      -1.174820       0.130359      59.450441\n",
      "50%         0.009424      -0.009482       2.484236      94.925613\n",
      "75%         1.158535       1.163678       4.858794     130.595027\n",
      "max         7.238262       7.844801      16.739402     190.029838\n"
     ]
    },
    {
     "data": {
      "image/png": "[encoded data removed]",
      "text/plain": [
       "<Figure size 360x360 with 2 Axes>"
      ]
     },
     "metadata": {
      "needs_background": "light"
     },
     "output_type": "display_data"
    }
   ],
   "source": [
    "getInfo(df2)"
   ]
  },
  {
   "cell_type": "markdown",
   "metadata": {},
   "source": [
    "В данных дубликатов необнаружено. \n",
    "В df0 видна зависимость признаков f0 и f1, а также f2 и product.\n",
    "В df1 видна прямая зависимость признаков f2 и product.\n",
    "В df2 видна зависимость признаков f2 и product.\n",
    "Краткий итог: на данный момент больше всего выделяется регион df1.\n"
   ]
  },
  {
   "cell_type": "code",
   "execution_count": 7,
   "metadata": {},
   "outputs": [],
   "source": [
    "x = df0['product']\n",
    "y = df1['product']\n",
    "z = df2['product']"
   ]
  },
  {
   "cell_type": "code",
   "execution_count": 8,
   "metadata": {},
   "outputs": [
    {
     "data": {
      "image/png": "[encoded data removed]",
      "text/plain": [
       "<Figure size 432x288 with 1 Axes>"
      ]
     },
     "metadata": {
      "needs_background": "light"
     },
     "output_type": "display_data"
    }
   ],
   "source": [
    "plt.hist(x, alpha=0.5, label='df0')\n",
    "plt.hist(y, alpha=0.5, label='df1')\n",
    "plt.hist(z, alpha=0.5, label='df2')\n",
    "plt.legend(loc='upper right')\n",
    "plt.show()"
   ]
  },
  {
   "cell_type": "markdown",
   "metadata": {},
   "source": [
    "Как видно на графике выше - распределение целевого признака df0 и df2 - примерно одинаковое. df1 распределено неравномерно - большое количество скважин имеет низкий показатель объема запасов, но также большое количество скважин имеет и высокий показатель."
   ]
  },
  {
   "cell_type": "markdown",
   "metadata": {},
   "source": [
    "## Шаг 2. Обучим и проверим модель для каждого региона. <a id='step2'></a>"
   ]
  },
  {
   "cell_type": "markdown",
   "metadata": {},
   "source": [
    "Подготовим функцию по обучению моделей, которая будет расчитывать среднее прогнозируемое, среднее фактические и к-т RMSE."
   ]
  },
  {
   "cell_type": "code",
   "execution_count": 9,
   "metadata": {},
   "outputs": [],
   "source": [
    "def predictProducts(df):\n",
    "    features = df.drop(['product','id'], axis=1)\n",
    "    target = df['product']\n",
    "    features_train, features_valid, target_train, target_valid = train_test_split(features, target,test_size=0.25, random_state=12345)\n",
    "    model = LinearRegression() \n",
    "    model.fit(features_train,target_train) \n",
    "    predicted_valid = model.predict(features_valid)\n",
    "    print('Среднее прогнозируемое =',predicted_valid.mean())\n",
    "    print('Среднее фактическое =',target_valid.mean())\n",
    "    print('RMSE =',mean_squared_error(target_valid, predicted_valid)**0.5)\n",
    "    return predicted_valid, target_valid\n",
    "    \n",
    "    "
   ]
  },
  {
   "cell_type": "code",
   "execution_count": 10,
   "metadata": {},
   "outputs": [
    {
     "name": "stdout",
     "output_type": "stream",
     "text": [
      "Среднее прогнозируемое = 92.59256778438038\n",
      "Среднее фактическое = 92.07859674082927\n",
      "RMSE = 37.57942171508131\n"
     ]
    }
   ],
   "source": [
    "predicted_valid_0,target_valid_0 = predictProducts(df0)"
   ]
  },
  {
   "cell_type": "code",
   "execution_count": 11,
   "metadata": {},
   "outputs": [
    {
     "name": "stdout",
     "output_type": "stream",
     "text": [
      "Среднее прогнозируемое = 68.728546895446\n",
      "Среднее фактическое = 68.72313602435997\n",
      "RMSE = 0.8930992867756138\n"
     ]
    }
   ],
   "source": [
    "predicted_valid_1,target_valid_1 = predictProducts(df1)"
   ]
  },
  {
   "cell_type": "code",
   "execution_count": 12,
   "metadata": {},
   "outputs": [
    {
     "name": "stdout",
     "output_type": "stream",
     "text": [
      "Среднее прогнозируемое = 94.96504596800489\n",
      "Среднее фактическое = 94.88423280885438\n",
      "RMSE = 40.02970873393434\n"
     ]
    }
   ],
   "source": [
    "predicted_valid_2,target_valid_2 = predictProducts(df2)"
   ]
  },
  {
   "cell_type": "markdown",
   "metadata": {},
   "source": [
    "Как видно, наилучший показатель квадратного корня из средней квадратичной ошибки у df1. А вот средние показатель запасов - у df2 и df0."
   ]
  },
  {
   "cell_type": "markdown",
   "metadata": {},
   "source": [
    "## Шаг 3. Подготовимся к расчёту прибыли. <a id='step3'></a>"
   ]
  },
  {
   "cell_type": "markdown",
   "metadata": {},
   "source": [
    "Количество групп для разведки в регионе (group) - 500, количество наилучших точек для разработки (best) - 200. \n",
    "Бюджет на разработку (budget) - 10 млрд, стоимость барреля (one_barrel) - 450, доход с каждой единицы продукта - 450 тыс. руб."
   ]
  },
  {
   "cell_type": "code",
   "execution_count": 13,
   "metadata": {},
   "outputs": [],
   "source": [
    "group = 500\n",
    "best = 200\n",
    "budget = 10e9\n",
    "one_barrel = 450\n",
    "one_income = 450000\n"
   ]
  },
  {
   "cell_type": "markdown",
   "metadata": {},
   "source": [
    "Рассчитаем минимальное количество сырья для безубыточной разработки новой скважины. Сначала рассчитаем, сколько денег должна приносить одна скважина."
   ]
  },
  {
   "cell_type": "code",
   "execution_count": 14,
   "metadata": {},
   "outputs": [],
   "source": [
    "development = budget/best"
   ]
  },
  {
   "cell_type": "code",
   "execution_count": 15,
   "metadata": {},
   "outputs": [
    {
     "data": {
      "text/plain": [
       "50000000.0"
      ]
     },
     "execution_count": 15,
     "metadata": {},
     "output_type": "execute_result"
    }
   ],
   "source": [
    "development"
   ]
  },
  {
   "cell_type": "markdown",
   "metadata": {},
   "source": [
    "Теперь высчитаем, какой объем запаса сырья у нее должен быть. "
   ]
  },
  {
   "cell_type": "code",
   "execution_count": 16,
   "metadata": {},
   "outputs": [],
   "source": [
    "min_product = development/one_barrel/1000\n"
   ]
  },
  {
   "cell_type": "code",
   "execution_count": 17,
   "metadata": {},
   "outputs": [
    {
     "data": {
      "text/plain": [
       "111.11111111111111"
      ]
     },
     "execution_count": 17,
     "metadata": {},
     "output_type": "execute_result"
    }
   ],
   "source": [
    "min_product"
   ]
  },
  {
   "cell_type": "markdown",
   "metadata": {},
   "source": [
    "Данный показатель выше, чем среднее в регионах. В целом это очевидно, поскольку это среднее 200 наилучших скважин."
   ]
  },
  {
   "cell_type": "markdown",
   "metadata": {},
   "source": [
    "## Шаг 4. Напишем функцию для расчёта прибыли по выбранным скважинам и предсказаниям модели <a id='step4'></a>"
   ]
  },
  {
   "cell_type": "markdown",
   "metadata": {},
   "source": [
    "Прибыль рассчитываем следующим образом - выбираем сначала скважины с максимальными значениями предсказаний, далее отфильтровываем полученные индексы на целевых признаках, суммируем и рассчитываем прибыль. "
   ]
  },
  {
   "cell_type": "code",
   "execution_count": 18,
   "metadata": {},
   "outputs": [],
   "source": [
    "def revenue(target, probabilities, count, one_income):\n",
    "    probs_sorted = probabilities.sort_values(ascending=False)\n",
    "    selected = target[probs_sorted.index][:count]\n",
    "    return one_income * selected.sum()"
   ]
  },
  {
   "cell_type": "markdown",
   "metadata": {},
   "source": [
    "## Шаг 5. Посчитаем риски и прибыль для каждого региона <a id='step5'></a>"
   ]
  },
  {
   "cell_type": "markdown",
   "metadata": {},
   "source": [
    "Напишем две функции - первая рассчитывает прибыль, а вторая - строит доверительный интервал и рассчитыает риск убытков (убыток - если прибыль составляет менее 10 млрд рублей."
   ]
  },
  {
   "cell_type": "code",
   "execution_count": 19,
   "metadata": {},
   "outputs": [],
   "source": [
    "def profit(target_valid,predicted_valid,group):\n",
    "    target = target_valid\n",
    "    probabilities =  pd.Series(predicted_valid)\n",
    "    target.reset_index(drop=True, inplace=True)\n",
    "    values = []\n",
    "    state = np.random.RandomState(12345)\n",
    "    for i in range(1000):\n",
    "        target_subsample = target.sample(n=group, replace=True, random_state=state)\n",
    "        probs_subsample = probabilities[target_subsample.index] \n",
    "        values.append(revenue(target_subsample, probs_subsample, best, one_income))\n",
    "    values = pd.Series(values)\n",
    "    return values"
   ]
  },
  {
   "cell_type": "code",
   "execution_count": 20,
   "metadata": {},
   "outputs": [],
   "source": [
    "def IntervalAndRisk(values, budget):\n",
    "    lower = values.quantile(0.025)\n",
    "    high = values.quantile(0.975)\n",
    "    mean = values.mean()\n",
    "    confidence_interval = st.t.interval(0.95, len(values)-1, values.mean(), values.sem()) \n",
    "    risk = values[values < budget].count()/1000\n",
    "    print(\"Средняя выручка:\", \"{:0,.2f}\".format(float(mean)))\n",
    "    print(\"2,5%-квантиль:\", \"{:0,.2f}\".format(float(lower)))\n",
    "    print(\"97,5%-квантиль:\", \"{:0,.2f}\".format(float(high)))\n",
    "    print(\"Доверительный интервал по распределению Стьюдента:\", confidence_interval)\n",
    "    print(\"Количество исходов, когда прибыль убыточная:\", values[values < budget].count())\n",
    "    print(\"Риск:\", f\"{risk:.1%}\")"
   ]
  },
  {
   "cell_type": "code",
   "execution_count": 21,
   "metadata": {
    "scrolled": true
   },
   "outputs": [],
   "source": [
    "values_0 = profit(target_valid_0,predicted_valid_0,group)"
   ]
  },
  {
   "cell_type": "code",
   "execution_count": 22,
   "metadata": {},
   "outputs": [
    {
     "name": "stdout",
     "output_type": "stream",
     "text": [
      "Средняя выручка: 10,425,938,526.91\n",
      "2,5%-квантиль: 9,897,909,905.16\n",
      "97,5%-квантиль: 10,947,976,353.36\n",
      "Доверительный интервал по распределению Стьюдента: (10408732207.068699, 10443144846.752487)\n",
      "Количество исходов, когда прибыль убыточная: 60\n",
      "Риск: 6.0%\n"
     ]
    }
   ],
   "source": [
    "IntervalAndRisk(values_0, budget)"
   ]
  },
  {
   "cell_type": "code",
   "execution_count": 23,
   "metadata": {},
   "outputs": [],
   "source": [
    "values_1 = profit(target_valid_1,predicted_valid_1,group)"
   ]
  },
  {
   "cell_type": "code",
   "execution_count": 24,
   "metadata": {},
   "outputs": [
    {
     "name": "stdout",
     "output_type": "stream",
     "text": [
      "Средняя выручка: 10,515,222,773.44\n",
      "2,5%-квантиль: 10,068,873,225.37\n",
      "97,5%-квантиль: 10,931,547,591.26\n",
      "Доверительный интервал по распределению Стьюдента: (10501621476.176323, 10528824070.710258)\n",
      "Количество исходов, когда прибыль убыточная: 10\n",
      "Риск: 1.0%\n"
     ]
    }
   ],
   "source": [
    "IntervalAndRisk(values_1, budget)"
   ]
  },
  {
   "cell_type": "code",
   "execution_count": 25,
   "metadata": {},
   "outputs": [],
   "source": [
    "values_2 = profit(target_valid_2,predicted_valid_2,group)"
   ]
  },
  {
   "cell_type": "code",
   "execution_count": 26,
   "metadata": {},
   "outputs": [
    {
     "name": "stdout",
     "output_type": "stream",
     "text": [
      "Средняя выручка: 10,435,008,362.78\n",
      "2,5%-квантиль: 9,871,119,452.67\n",
      "97,5%-квантиль: 10,969,706,954.18\n",
      "Доверительный интервал по распределению Стьюдента: (10417453552.041359, 10452563173.524155)\n",
      "Количество исходов, когда прибыль убыточная: 64\n",
      "Риск: 6.4%\n"
     ]
    }
   ],
   "source": [
    "IntervalAndRisk(values_2, budget)"
   ]
  },
  {
   "cell_type": "markdown",
   "metadata": {},
   "source": [
    "Рассмотрим графики распределения прибыли."
   ]
  },
  {
   "cell_type": "code",
   "execution_count": 27,
   "metadata": {},
   "outputs": [
    {
     "data": {
      "image/png": "[encoded data removed]",
      "text/plain": [
       "<Figure size 432x288 with 1 Axes>"
      ]
     },
     "metadata": {
      "needs_background": "light"
     },
     "output_type": "display_data"
    }
   ],
   "source": [
    "plt.hist(values_0, alpha=0.5, label='df0')\n",
    "plt.hist(values_1, alpha=0.5, label='df1')\n",
    "plt.hist(values_2, alpha=0.5, label='df2')\n",
    "plt.legend(loc='upper right')\n",
    "plt.show()"
   ]
  },
  {
   "cell_type": "code",
   "execution_count": 28,
   "metadata": {},
   "outputs": [
    {
     "data": {
      "text/plain": [
       "Text(0, 0.5, 'Плотность')"
      ]
     },
     "execution_count": 28,
     "metadata": {},
     "output_type": "execute_result"
    },
    {
     "data": {
      "image/png": "[encoded data removed]",
      "text/plain": [
       "<Figure size 432x288 with 1 Axes>"
      ]
     },
     "metadata": {
      "needs_background": "light"
     },
     "output_type": "display_data"
    }
   ],
   "source": [
    "sns.distplot(values_0, hist = False, kde = True,\n",
    "                 kde_kws = {'linewidth': 1},\n",
    "                 label = 'df0')\n",
    "sns.distplot(values_1, hist = False, kde = True,\n",
    "                 kde_kws = {'linewidth': 1},\n",
    "                 label = 'df1')\n",
    "sns.distplot(values_2, hist = False, kde = True,\n",
    "                 kde_kws = {'linewidth': 1},\n",
    "                 label = 'df2')\n",
    "\n",
    "plt.legend(loc='upper right')\n",
    "plt.title('Плотность распределения дохода')\n",
    "plt.xlabel('Доход')\n",
    "plt.ylabel('Плотность')"
   ]
  },
  {
   "cell_type": "markdown",
   "metadata": {},
   "source": [
    "Перед нами стояла задача определить наиболее прибыльный регион. Путем обучения модели и предсказывания запасов сырья, а также расчета прибыли и риска, можно сделать вывод, что регион c df1 наиболее выгодный по следующим причинам:\n",
    " - наибольшая плотность распределения дохода (выше 10 млрд. рублей)\n",
    " - наибольшая средняя выручка\n",
    " - наиболее узкий доверительный интервал\n",
    " - наименьший риск оказаться в убытке"
   ]
  }
 ],
 "metadata": {
  "kernelspec": {
   "display_name": "Python 3",
   "language": "python",
   "name": "python3"
  },
  "language_info": {
   "codemirror_mode": {
    "name": "ipython",
    "version": 3
   },
   "file_extension": ".py",
   "mimetype": "text/x-python",
   "name": "python",
   "nbconvert_exporter": "python",
   "pygments_lexer": "ipython3",
   "version": "3.8.5"
  }
 },
 "nbformat": 4,
 "nbformat_minor": 4
}
